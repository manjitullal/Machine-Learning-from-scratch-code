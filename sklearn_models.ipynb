{
  "nbformat": 4,
  "nbformat_minor": 0,
  "metadata": {
    "colab": {
      "name": "sklearn-models.ipynb",
      "provenance": [],
      "authorship_tag": "ABX9TyMqfGIOFjC7xa3N9HUaqWRB",
      "include_colab_link": true
    },
    "kernelspec": {
      "name": "python3",
      "display_name": "Python 3"
    }
  },
  "cells": [
    {
      "cell_type": "markdown",
      "metadata": {
        "id": "view-in-github",
        "colab_type": "text"
      },
      "source": [
        "<a href=\"https://colab.research.google.com/github/manjitullal/Machine-Learning-from-scratch-code/blob/master/sklearn_models.ipynb\" target=\"_parent\"><img src=\"https://colab.research.google.com/assets/colab-badge.svg\" alt=\"Open In Colab\"/></a>"
      ]
    },
    {
      "cell_type": "code",
      "metadata": {
        "id": "T9L6wYckwRZg"
      },
      "source": [
        "from sklearn import datasets\n",
        "from sklearn.model_selection import train_test_split\n",
        "from sklearn.linear_model import LogisticRegression\n",
        "from sklearn.model_selection import cross_validate,LeaveOneOut,KFold\n",
        "from sklearn import preprocessing\n",
        "import pandas as pd\n",
        "import numpy as np\n",
        "import matplotlib.pyplot as plt"
      ],
      "execution_count": 90,
      "outputs": []
    },
    {
      "cell_type": "code",
      "metadata": {
        "id": "qxpjVjqc9cxI"
      },
      "source": [
        "X,y = datasets.load_iris(return_X_y = True)\n",
        "minmaxscaler = preprocessing.MinMaxScaler()\n",
        "X_scaled = minmaxscaler.fit_transform(X)\n",
        "\n",
        "X_train, X_test, y_train, y_test = train_test_split(X_scaled, y, test_size=0.33, random_state=42)"
      ],
      "execution_count": 91,
      "outputs": []
    },
    {
      "cell_type": "code",
      "metadata": {
        "id": "CeVFFx_LwvHs"
      },
      "source": [
        "def linear_models_classification(X_train, X_test, y_train, y_test, type):\n",
        "\n",
        "  if type == \"LogisticRegression\":\n",
        "    model = LogisticRegression()\n",
        "\n",
        "  results = cross_validate(model,X_train,y_train,cv=KFold(n_splits=10, shuffle=True))\n",
        "  scores = results[\"test_score\"]\n",
        "  train_accuracy = sum(scores)/len(scores)\n",
        "\n",
        "  model.fit(X_train,y_train)\n",
        "  prediction = model.predict(X_test)\n",
        "  test_accuracy = model.score(X_test,y_test)\n",
        "\n",
        "  mislabled = {index:key for index, key in enumerate(prediction) if key != y_test[index]}\n",
        "  return {\"model\": model, \"prediction\":prediction, \"train_accuracy\":train_accuracy, \"test_accuracy\":test_accuracy, \"mislabled\":mislabled}"
      ],
      "execution_count": 92,
      "outputs": []
    },
    {
      "cell_type": "code",
      "metadata": {
        "id": "2bNYi8Ug_I82"
      },
      "source": [
        "output = linear_models_classification(X_train, X_test, y_train, y_test , \"LogisticRegression\")"
      ],
      "execution_count": 107,
      "outputs": []
    },
    {
      "cell_type": "code",
      "metadata": {
        "id": "kpr1eP2Jypdg",
        "outputId": "0838d3a6-127b-4e7f-f774-8d1b340b81f2",
        "colab": {
          "base_uri": "https://localhost:8080/",
          "height": 50
        }
      },
      "source": [
        "print(f\"Training accuracy is {output['train_accuracy']:.2f}\")\n",
        "print(f\"Testing accuracy is {output['test_accuracy']:.2f}\")"
      ],
      "execution_count": 120,
      "outputs": [
        {
          "output_type": "stream",
          "text": [
            "Training accuracy is 0.92\n",
            "Testing accuracy is 0.90\n"
          ],
          "name": "stdout"
        }
      ]
    },
    {
      "cell_type": "code",
      "metadata": {
        "id": "av4CwdRD79a9",
        "outputId": "b8e20012-62b2-4723-ba9d-c8e2cd09c676",
        "colab": {
          "base_uri": "https://localhost:8080/",
          "height": 200
        }
      },
      "source": [
        "# View the data is incorrectly predicted and the actual values\n",
        "\n",
        "mislabled_index = list(output[\"mislabled\"].keys())\n",
        "mislabled_values = list(output[\"mislabled\"].values())\n",
        "mislabled_data = minmaxscaler.inverse_transform(X_test[mislabled_index])\n",
        "mislabled_data = pd.DataFrame(mislabled_data)\n",
        "mislabled_data.columns = ['SepalLength', 'Sepalwidth', 'PetalLength', 'Petalwidth']\n",
        "mislabled_data['Predicted'] = mislabled_values\n",
        "mislabled_data['Actual'] = y_test[mislabled_index]\n",
        "mislabled_data.head()"
      ],
      "execution_count": 99,
      "outputs": [
        {
          "output_type": "execute_result",
          "data": {
            "text/html": [
              "<div>\n",
              "<style scoped>\n",
              "    .dataframe tbody tr th:only-of-type {\n",
              "        vertical-align: middle;\n",
              "    }\n",
              "\n",
              "    .dataframe tbody tr th {\n",
              "        vertical-align: top;\n",
              "    }\n",
              "\n",
              "    .dataframe thead th {\n",
              "        text-align: right;\n",
              "    }\n",
              "</style>\n",
              "<table border=\"1\" class=\"dataframe\">\n",
              "  <thead>\n",
              "    <tr style=\"text-align: right;\">\n",
              "      <th></th>\n",
              "      <th>SepalLength</th>\n",
              "      <th>Sepalwidth</th>\n",
              "      <th>PetalLength</th>\n",
              "      <th>Petalwidth</th>\n",
              "      <th>Predicted</th>\n",
              "      <th>Actual</th>\n",
              "    </tr>\n",
              "  </thead>\n",
              "  <tbody>\n",
              "    <tr>\n",
              "      <th>0</th>\n",
              "      <td>6.3</td>\n",
              "      <td>3.3</td>\n",
              "      <td>4.7</td>\n",
              "      <td>1.6</td>\n",
              "      <td>2</td>\n",
              "      <td>1</td>\n",
              "    </tr>\n",
              "    <tr>\n",
              "      <th>1</th>\n",
              "      <td>6.4</td>\n",
              "      <td>3.2</td>\n",
              "      <td>4.5</td>\n",
              "      <td>1.5</td>\n",
              "      <td>2</td>\n",
              "      <td>1</td>\n",
              "    </tr>\n",
              "    <tr>\n",
              "      <th>2</th>\n",
              "      <td>6.0</td>\n",
              "      <td>3.4</td>\n",
              "      <td>4.5</td>\n",
              "      <td>1.6</td>\n",
              "      <td>2</td>\n",
              "      <td>1</td>\n",
              "    </tr>\n",
              "    <tr>\n",
              "      <th>3</th>\n",
              "      <td>6.7</td>\n",
              "      <td>3.1</td>\n",
              "      <td>4.7</td>\n",
              "      <td>1.5</td>\n",
              "      <td>2</td>\n",
              "      <td>1</td>\n",
              "    </tr>\n",
              "    <tr>\n",
              "      <th>4</th>\n",
              "      <td>6.3</td>\n",
              "      <td>2.8</td>\n",
              "      <td>5.1</td>\n",
              "      <td>1.5</td>\n",
              "      <td>1</td>\n",
              "      <td>2</td>\n",
              "    </tr>\n",
              "  </tbody>\n",
              "</table>\n",
              "</div>"
            ],
            "text/plain": [
              "   SepalLength  Sepalwidth  PetalLength  Petalwidth  Predicted  Actual\n",
              "0          6.3         3.3          4.7         1.6          2       1\n",
              "1          6.4         3.2          4.5         1.5          2       1\n",
              "2          6.0         3.4          4.5         1.6          2       1\n",
              "3          6.7         3.1          4.7         1.5          2       1\n",
              "4          6.3         2.8          5.1         1.5          1       2"
            ]
          },
          "metadata": {
            "tags": []
          },
          "execution_count": 99
        }
      ]
    }
  ]
}