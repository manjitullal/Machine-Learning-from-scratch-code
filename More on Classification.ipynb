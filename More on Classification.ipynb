{
 "cells": [
  {
   "cell_type": "markdown",
   "metadata": {},
   "source": [
    "# sensitivity and specificity\n",
    "\n",
    "sensitivity is the percentage of true positives identified \n",
    "\n",
    "specificity is the percentage of true negatives identified "
   ]
  },
  {
   "cell_type": "markdown",
   "metadata": {},
   "source": [
    "example:\n",
    "    \n",
    "1. In the case of airport, we need high sensitivity because we do not want to miss any weapons, so here there may be many false alarms\n",
    "\n",
    "2. In the case of medical diagnosis, we need high specificity because we do not want to miss classify the diagnosis"
   ]
  },
  {
   "cell_type": "markdown",
   "metadata": {},
   "source": [
    "###### consider changing the threshold in order to increase the sensitivity"
   ]
  },
  {
   "cell_type": "code",
   "execution_count": 8,
   "metadata": {},
   "outputs": [
    {
     "data": {
      "text/html": [
       "<div>\n",
       "<style scoped>\n",
       "    .dataframe tbody tr th:only-of-type {\n",
       "        vertical-align: middle;\n",
       "    }\n",
       "\n",
       "    .dataframe tbody tr th {\n",
       "        vertical-align: top;\n",
       "    }\n",
       "\n",
       "    .dataframe thead th {\n",
       "        text-align: right;\n",
       "    }\n",
       "</style>\n",
       "<table border=\"1\" class=\"dataframe\">\n",
       "  <thead>\n",
       "    <tr style=\"text-align: right;\">\n",
       "      <th></th>\n",
       "      <th>Positive</th>\n",
       "      <th>Negative</th>\n",
       "    </tr>\n",
       "  </thead>\n",
       "  <tbody>\n",
       "    <tr>\n",
       "      <th>Positive</th>\n",
       "      <td>TP</td>\n",
       "      <td>FP</td>\n",
       "    </tr>\n",
       "    <tr>\n",
       "      <th>Negative</th>\n",
       "      <td>FN</td>\n",
       "      <td>TN</td>\n",
       "    </tr>\n",
       "  </tbody>\n",
       "</table>\n",
       "</div>"
      ],
      "text/plain": [
       "         Positive Negative\n",
       "Positive       TP       FP\n",
       "Negative       FN       TN"
      ]
     },
     "execution_count": 8,
     "metadata": {},
     "output_type": "execute_result"
    }
   ],
   "source": [
    "import pandas as pd\n",
    "data = {'Positive':['TP','FN'],'Negative':['FP','TN']}\n",
    "df = pd.DataFrame(data,index=['Positive','Negative'])\n",
    "df"
   ]
  },
  {
   "cell_type": "markdown",
   "metadata": {},
   "source": [
    "##### Here, \n",
    "\n",
    "Precision is TP/(TP+FP)\n",
    "\n",
    "Recall or sensitivity is TP/(TP+FN)\n",
    "\n",
    "Specificity is TN/(TN+FP)\n",
    "\n",
    "Accuracy is TP+TN/(TP+FP+FN+TN)"
   ]
  },
  {
   "cell_type": "markdown",
   "metadata": {},
   "source": [
    "##### Why would you prefer LDA over QDA ?\n",
    "\n",
    "When there are p parameters then QDA will have to build a covariance matrix which can be computationally expensive "
   ]
  },
  {
   "cell_type": "markdown",
   "metadata": {},
   "source": [
    "it is very important to check the class imbalance at the begining and work out a strategy"
   ]
  },
  {
   "cell_type": "markdown",
   "metadata": {},
   "source": [
    "https://github.com/topics/imbalanced-learning\n",
    "\n",
    "https://www.kdnuggets.com/2016/08/learning-from-imbalanced-classes.html/2"
   ]
  },
  {
   "cell_type": "code",
   "execution_count": null,
   "metadata": {},
   "outputs": [],
   "source": []
  }
 ],
 "metadata": {
  "kernelspec": {
   "display_name": "Python 3",
   "language": "python",
   "name": "python3"
  },
  "language_info": {
   "codemirror_mode": {
    "name": "ipython",
    "version": 3
   },
   "file_extension": ".py",
   "mimetype": "text/x-python",
   "name": "python",
   "nbconvert_exporter": "python",
   "pygments_lexer": "ipython3",
   "version": "3.6.3"
  }
 },
 "nbformat": 4,
 "nbformat_minor": 2
}
