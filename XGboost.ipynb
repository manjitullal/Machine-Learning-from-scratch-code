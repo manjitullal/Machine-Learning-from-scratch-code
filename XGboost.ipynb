{
  "nbformat": 4,
  "nbformat_minor": 0,
  "metadata": {
    "colab": {
      "name": "XGboost.ipynb",
      "provenance": [],
      "authorship_tag": "ABX9TyP0BckiAYzTFcv/iMRzuDMr",
      "include_colab_link": true
    },
    "kernelspec": {
      "name": "python3",
      "display_name": "Python 3"
    }
  },
  "cells": [
    {
      "cell_type": "markdown",
      "metadata": {
        "id": "view-in-github",
        "colab_type": "text"
      },
      "source": [
        "<a href=\"https://colab.research.google.com/github/manjitullal/Machine-Learning-from-scratch-code/blob/master/XGboost.ipynb\" target=\"_parent\"><img src=\"https://colab.research.google.com/assets/colab-badge.svg\" alt=\"Open In Colab\"/></a>"
      ]
    },
    {
      "cell_type": "markdown",
      "metadata": {
        "id": "Vsa0PPRQfjPe"
      },
      "source": [
        "# XGboost"
      ]
    },
    {
      "cell_type": "code",
      "metadata": {
        "id": "kAzRFLhbiDzX",
        "outputId": "d088fd90-8f0d-4823-b7ba-1552043fdba0",
        "colab": {
          "base_uri": "https://localhost:8080/"
        }
      },
      "source": [
        "!pip3 install xgboost\n",
        "!pip install bayesian-optimization"
      ],
      "execution_count": 1,
      "outputs": [
        {
          "output_type": "stream",
          "text": [
            "Requirement already satisfied: xgboost in /usr/local/lib/python3.6/dist-packages (0.90)\n",
            "Requirement already satisfied: scipy in /usr/local/lib/python3.6/dist-packages (from xgboost) (1.4.1)\n",
            "Requirement already satisfied: numpy in /usr/local/lib/python3.6/dist-packages (from xgboost) (1.18.5)\n",
            "Collecting bayesian-optimization\n",
            "  Downloading https://files.pythonhosted.org/packages/bb/7a/fd8059a3881d3ab37ac8f72f56b73937a14e8bb14a9733e68cc8b17dbe3c/bayesian-optimization-1.2.0.tar.gz\n",
            "Requirement already satisfied: numpy>=1.9.0 in /usr/local/lib/python3.6/dist-packages (from bayesian-optimization) (1.18.5)\n",
            "Requirement already satisfied: scipy>=0.14.0 in /usr/local/lib/python3.6/dist-packages (from bayesian-optimization) (1.4.1)\n",
            "Requirement already satisfied: scikit-learn>=0.18.0 in /usr/local/lib/python3.6/dist-packages (from bayesian-optimization) (0.22.2.post1)\n",
            "Requirement already satisfied: joblib>=0.11 in /usr/local/lib/python3.6/dist-packages (from scikit-learn>=0.18.0->bayesian-optimization) (0.17.0)\n",
            "Building wheels for collected packages: bayesian-optimization\n",
            "  Building wheel for bayesian-optimization (setup.py) ... \u001b[?25l\u001b[?25hdone\n",
            "  Created wheel for bayesian-optimization: filename=bayesian_optimization-1.2.0-cp36-none-any.whl size=11685 sha256=690aee61499be2058fa776be5d710c24ad420d3fb513cfa59e3ef17f17a047b5\n",
            "  Stored in directory: /root/.cache/pip/wheels/5a/56/ae/e0e3c1fc1954dc3ec712e2df547235ed072b448094d8f94aec\n",
            "Successfully built bayesian-optimization\n",
            "Installing collected packages: bayesian-optimization\n",
            "Successfully installed bayesian-optimization-1.2.0\n"
          ],
          "name": "stdout"
        }
      ]
    },
    {
      "cell_type": "markdown",
      "metadata": {
        "id": "UQJrNJr3gBZm"
      },
      "source": [
        "https://scikit-learn.org/stable/auto_examples/classification/plot_digits_classification.html"
      ]
    },
    {
      "cell_type": "code",
      "metadata": {
        "id": "cBAFCP5afmNB"
      },
      "source": [
        "import pandas as pd\n",
        "import numpy as np\n",
        "from sklearn import datasets\n",
        "from sklearn import svm, metrics\n",
        "import xgboost as xgb \n",
        "from sklearn.model_selection import train_test_split\n",
        "from bayes_opt import BayesianOptimization"
      ],
      "execution_count": 4,
      "outputs": []
    },
    {
      "cell_type": "code",
      "metadata": {
        "id": "D9rx0cfjf_IP"
      },
      "source": [
        "digits = datasets.load_digits()\n",
        "n_samples = len(digits.images)\n",
        "data = digits.images.reshape((n_samples, -1)) # convert 1797x8x8 to 1797x64"
      ],
      "execution_count": 5,
      "outputs": []
    },
    {
      "cell_type": "code",
      "metadata": {
        "id": "dCV8UJb4gQ3d"
      },
      "source": [
        "X_train, X_test, y_train, y_test = train_test_split(\n",
        "    data, digits.target, test_size=0.5, shuffle=False)"
      ],
      "execution_count": 6,
      "outputs": []
    },
    {
      "cell_type": "code",
      "metadata": {
        "id": "0ZvafpB5hE_F"
      },
      "source": [
        "classifier_svm = svm.SVC(gamma=0.001)\n",
        "classifier_svm.fit(X_train, y_train)\n",
        "predicted_svm = classifier_svm.predict(X_test)"
      ],
      "execution_count": 7,
      "outputs": []
    },
    {
      "cell_type": "code",
      "metadata": {
        "id": "kHG8lBhqhPr8",
        "outputId": "d0fb7526-756d-4cde-a27f-43f314a5f515",
        "colab": {
          "base_uri": "https://localhost:8080/",
          "height": 867
        }
      },
      "source": [
        "print(\"Classification report for classifier %s:\\n%s\\n\"\n",
        "      % (classifier_svm, metrics.classification_report(y_test, predicted_svm)))\n",
        "disp = metrics.plot_confusion_matrix(classifier_svm, X_test, y_test)\n",
        "disp.figure_.suptitle(\"Confusion Matrix\")\n",
        "print(\"Confusion matrix:\\n%s\" % disp.confusion_matrix)"
      ],
      "execution_count": 8,
      "outputs": [
        {
          "output_type": "stream",
          "text": [
            "Classification report for classifier SVC(C=1.0, break_ties=False, cache_size=200, class_weight=None, coef0=0.0,\n",
            "    decision_function_shape='ovr', degree=3, gamma=0.001, kernel='rbf',\n",
            "    max_iter=-1, probability=False, random_state=None, shrinking=True,\n",
            "    tol=0.001, verbose=False):\n",
            "              precision    recall  f1-score   support\n",
            "\n",
            "           0       1.00      0.99      0.99        88\n",
            "           1       0.99      0.97      0.98        91\n",
            "           2       0.99      0.99      0.99        86\n",
            "           3       0.98      0.87      0.92        91\n",
            "           4       0.99      0.96      0.97        92\n",
            "           5       0.95      0.97      0.96        91\n",
            "           6       0.99      0.99      0.99        91\n",
            "           7       0.96      0.99      0.97        89\n",
            "           8       0.94      1.00      0.97        88\n",
            "           9       0.93      0.98      0.95        92\n",
            "\n",
            "    accuracy                           0.97       899\n",
            "   macro avg       0.97      0.97      0.97       899\n",
            "weighted avg       0.97      0.97      0.97       899\n",
            "\n",
            "\n",
            "Confusion matrix:\n",
            "[[87  0  0  0  1  0  0  0  0  0]\n",
            " [ 0 88  1  0  0  0  0  0  1  1]\n",
            " [ 0  0 85  1  0  0  0  0  0  0]\n",
            " [ 0  0  0 79  0  3  0  4  5  0]\n",
            " [ 0  0  0  0 88  0  0  0  0  4]\n",
            " [ 0  0  0  0  0 88  1  0  0  2]\n",
            " [ 0  1  0  0  0  0 90  0  0  0]\n",
            " [ 0  0  0  0  0  1  0 88  0  0]\n",
            " [ 0  0  0  0  0  0  0  0 88  0]\n",
            " [ 0  0  0  1  0  1  0  0  0 90]]\n"
          ],
          "name": "stdout"
        },
        {
          "output_type": "display_data",
          "data": {
            "image/png": "[encoded data removed]",
            "text/plain": [
              "<Figure size 432x288 with 2 Axes>"
            ]
          },
          "metadata": {
            "tags": [],
            "needs_background": "light"
          }
        }
      ]
    },
    {
      "cell_type": "code",
      "metadata": {
        "id": "ISkbjAU9gh2l"
      },
      "source": [
        "classifier_xg = xgb.XGBClassifier() \n",
        "classifier_xg.fit(X_train, y_train) \n",
        "predicted_xg = classifier_xg.predict(X_test) "
      ],
      "execution_count": 9,
      "outputs": []
    },
    {
      "cell_type": "code",
      "metadata": {
        "id": "AcciOPBLieey",
        "outputId": "d31b0e9b-793f-4e98-f3e7-5ca8d62461d6",
        "colab": {
          "base_uri": "https://localhost:8080/",
          "height": 918
        }
      },
      "source": [
        "print(\"Classification report for classifier %s:\\n%s\\n\"\n",
        "      % (classifier_xg, metrics.classification_report(y_test, predicted_xg)))\n",
        "disp = metrics.plot_confusion_matrix(classifier_xg, X_test, y_test)\n",
        "disp.figure_.suptitle(\"Confusion Matrix\")\n",
        "print(\"Confusion matrix:\\n%s\" % disp.confusion_matrix)"
      ],
      "execution_count": 10,
      "outputs": [
        {
          "output_type": "stream",
          "text": [
            "Classification report for classifier XGBClassifier(base_score=0.5, booster='gbtree', colsample_bylevel=1,\n",
            "              colsample_bynode=1, colsample_bytree=1, gamma=0,\n",
            "              learning_rate=0.1, max_delta_step=0, max_depth=3,\n",
            "              min_child_weight=1, missing=None, n_estimators=100, n_jobs=1,\n",
            "              nthread=None, objective='multi:softprob', random_state=0,\n",
            "              reg_alpha=0, reg_lambda=1, scale_pos_weight=1, seed=None,\n",
            "              silent=None, subsample=1, verbosity=1):\n",
            "              precision    recall  f1-score   support\n",
            "\n",
            "           0       0.93      0.99      0.96        88\n",
            "           1       0.86      0.82      0.84        91\n",
            "           2       0.96      0.90      0.93        86\n",
            "           3       0.86      0.82      0.84        91\n",
            "           4       0.96      0.87      0.91        92\n",
            "           5       0.89      0.91      0.90        91\n",
            "           6       0.93      0.95      0.94        91\n",
            "           7       0.98      0.93      0.95        89\n",
            "           8       0.86      0.88      0.87        88\n",
            "           9       0.80      0.93      0.86        92\n",
            "\n",
            "    accuracy                           0.90       899\n",
            "   macro avg       0.90      0.90      0.90       899\n",
            "weighted avg       0.90      0.90      0.90       899\n",
            "\n",
            "\n",
            "Confusion matrix:\n",
            "[[87  0  0  0  0  0  0  0  1  0]\n",
            " [ 0 75  0  3  2  0  0  0  1 10]\n",
            " [ 1  0 77  7  0  0  0  0  0  1]\n",
            " [ 0  3  0 75  0  3  0  2  8  0]\n",
            " [ 4  0  0  0 80  0  4  0  0  4]\n",
            " [ 0  1  0  0  0 83  2  0  0  5]\n",
            " [ 0  2  2  1  0  0 86  0  0  0]\n",
            " [ 0  0  1  0  1  3  0 83  1  0]\n",
            " [ 0  6  0  1  0  2  0  0 77  2]\n",
            " [ 2  0  0  0  0  2  0  0  2 86]]\n"
          ],
          "name": "stdout"
        },
        {
          "output_type": "display_data",
          "data": {
            "image/png": "[encoded data removed]",
            "text/plain": [
              "<Figure size 432x288 with 2 Axes>"
            ]
          },
          "metadata": {
            "tags": [],
            "needs_background": "light"
          }
        }
      ]
    },
    {
      "cell_type": "code",
      "metadata": {
        "id": "4TsihN0r3qj0"
      },
      "source": [
        "# gradient boosting with scaling \n",
        "# scaling makes not different here \n",
        "\n",
        "from sklearn.preprocessing import StandardScaler\n",
        "scaler = StandardScaler()\n",
        "\n",
        "# Fit scaler to training data only\n",
        "scaler_fit = scaler.fit(X_train)\n",
        "X_trains = scaler_fit.transform(X_train)\n",
        "X_tests = scaler_fit.transform(X_test)"
      ],
      "execution_count": 12,
      "outputs": []
    },
    {
      "cell_type": "code",
      "metadata": {
        "id": "9P_le5ph4CYF"
      },
      "source": [
        "classifier_xgs = xgb.XGBClassifier() \n",
        "classifier_xgs.fit(X_trains, y_train) \n",
        "predicted_xgs = classifier_xgs.predict(X_tests) "
      ],
      "execution_count": 13,
      "outputs": []
    },
    {
      "cell_type": "code",
      "metadata": {
        "id": "D2IQT1FA4l00",
        "outputId": "952f3595-616a-4693-9465-8e7ab88d438f",
        "colab": {
          "base_uri": "https://localhost:8080/",
          "height": 918
        }
      },
      "source": [
        "print(\"Classification report for classifier %s:\\n%s\\n\"\n",
        "      % (classifier_xgs, metrics.classification_report(y_test, predicted_xgs)))\n",
        "disp = metrics.plot_confusion_matrix(classifier_xgs, X_tests, y_test)\n",
        "disp.figure_.suptitle(\"Confusion Matrix\")\n",
        "print(\"Confusion matrix:\\n%s\" % disp.confusion_matrix)"
      ],
      "execution_count": 15,
      "outputs": [
        {
          "output_type": "stream",
          "text": [
            "Classification report for classifier XGBClassifier(base_score=0.5, booster='gbtree', colsample_bylevel=1,\n",
            "              colsample_bynode=1, colsample_bytree=1, gamma=0,\n",
            "              learning_rate=0.1, max_delta_step=0, max_depth=3,\n",
            "              min_child_weight=1, missing=None, n_estimators=100, n_jobs=1,\n",
            "              nthread=None, objective='multi:softprob', random_state=0,\n",
            "              reg_alpha=0, reg_lambda=1, scale_pos_weight=1, seed=None,\n",
            "              silent=None, subsample=1, verbosity=1):\n",
            "              precision    recall  f1-score   support\n",
            "\n",
            "           0       0.93      0.99      0.96        88\n",
            "           1       0.86      0.82      0.84        91\n",
            "           2       0.96      0.90      0.93        86\n",
            "           3       0.86      0.82      0.84        91\n",
            "           4       0.96      0.87      0.91        92\n",
            "           5       0.89      0.91      0.90        91\n",
            "           6       0.93      0.95      0.94        91\n",
            "           7       0.98      0.93      0.95        89\n",
            "           8       0.86      0.88      0.87        88\n",
            "           9       0.80      0.93      0.86        92\n",
            "\n",
            "    accuracy                           0.90       899\n",
            "   macro avg       0.90      0.90      0.90       899\n",
            "weighted avg       0.90      0.90      0.90       899\n",
            "\n",
            "\n",
            "Confusion matrix:\n",
            "[[87  0  0  0  0  0  0  0  1  0]\n",
            " [ 0 75  0  3  2  0  0  0  1 10]\n",
            " [ 1  0 77  7  0  0  0  0  0  1]\n",
            " [ 0  3  0 75  0  3  0  2  8  0]\n",
            " [ 4  0  0  0 80  0  4  0  0  4]\n",
            " [ 0  1  0  0  0 83  2  0  0  5]\n",
            " [ 0  2  2  1  0  0 86  0  0  0]\n",
            " [ 0  0  1  0  1  3  0 83  1  0]\n",
            " [ 0  6  0  1  0  2  0  0 77  2]\n",
            " [ 2  0  0  0  0  2  0  0  2 86]]\n"
          ],
          "name": "stdout"
        },
        {
          "output_type": "display_data",
          "data": {
            "image/png": "[encoded data removed]",
            "text/plain": [
              "<Figure size 432x288 with 2 Axes>"
            ]
          },
          "metadata": {
            "tags": [],
            "needs_background": "light"
          }
        }
      ]
    },
    {
      "cell_type": "markdown",
      "metadata": {
        "id": "UTHFt54Vi4BT"
      },
      "source": [
        "without hyper-parameter tuning we can see xgboost is not doing better than the svm"
      ]
    },
    {
      "cell_type": "markdown",
      "metadata": {
        "id": "4pmz6cuj2zLT"
      },
      "source": [
        "## Bayesian Optimization to  improve the parameters "
      ]
    },
    {
      "cell_type": "markdown",
      "metadata": {
        "id": "Z4sXJg_822dr"
      },
      "source": [
        "https://www.youtube.com/watch?v=vz3D36VXefI\n",
        "\n",
        "https://analyticsindiamag.com/implementing-bayesian-optimization-on-xgboost-a-beginners-guide/\n",
        "\n",
        "https://cloud.google.com/ai-platform/training/docs/hyperparameter-tuning-overview\n",
        "\n",
        "https://analyticsindiamag.com/implementing-bayesian-optimization-on-xgboost-a-beginners-guide/\n"
      ]
    },
    {
      "cell_type": "code",
      "metadata": {
        "id": "OL0AmmWT64Ud"
      },
      "source": [
        "train = xgb.DMatrix(X_train, label=y_train)"
      ],
      "execution_count": 19,
      "outputs": []
    },
    {
      "cell_type": "code",
      "metadata": {
        "id": "DZxjlVtK5vtX"
      },
      "source": [
        "def bo_tune_xgb(max_depth, gamma, n_estimators ,learning_rate):\n",
        "    params = {'max_depth': int(max_depth),\n",
        "              'gamma': gamma,\n",
        "              'n_estimators': int(n_estimators),\n",
        "              'learning_rate':learning_rate,\n",
        "              'subsample': 0.8,\n",
        "              'eta': 0.1,\n",
        "              'eval_metric': 'rmse'}\n",
        "    cv_result = xgb.cv(params, dtrain, num_boost_round=70, nfold=5)\n",
        "    return -1.0 * cv_result['test-rmse-mean'].iloc[-1]"
      ],
      "execution_count": 22,
      "outputs": []
    },
    {
      "cell_type": "code",
      "metadata": {
        "id": "6XGa9ZQk7bMV"
      },
      "source": [
        "xgb_bo = BayesianOptimization(bo_tune_xgb, {'max_depth': (3, 10),\n",
        "                                             'gamma': (0, 1),\n",
        "                                             'learning_rate':(0,1),\n",
        "                                             'n_estimators':(100,120)\n",
        "                                            })"
      ],
      "execution_count": 23,
      "outputs": []
    },
    {
      "cell_type": "code",
      "metadata": {
        "id": "1vPGxKWT7fmB",
        "outputId": "751cc279-dbcb-4249-c357-e584fb141825",
        "colab": {
          "base_uri": "https://localhost:8080/"
        }
      },
      "source": [
        "xgb_bo.maximize(n_iter=5, init_points=8, acq='ei')"
      ],
      "execution_count": 24,
      "outputs": [
        {
          "output_type": "stream",
          "text": [
            "|   iter    |  target   |   gamma   | learni... | max_depth | n_esti... |\n",
            "-------------------------------------------------------------------------\n",
            "| \u001b[0m 1       \u001b[0m | \u001b[0m-1.34    \u001b[0m | \u001b[0m 0.7667  \u001b[0m | \u001b[0m 0.4502  \u001b[0m | \u001b[0m 8.172   \u001b[0m | \u001b[0m 108.8   \u001b[0m |\n",
            "| \u001b[0m 2       \u001b[0m | \u001b[0m-1.904   \u001b[0m | \u001b[0m 0.6684  \u001b[0m | \u001b[0m 0.9679  \u001b[0m | \u001b[0m 5.617   \u001b[0m | \u001b[0m 112.7   \u001b[0m |\n",
            "| \u001b[0m 3       \u001b[0m | \u001b[0m-1.637   \u001b[0m | \u001b[0m 0.2586  \u001b[0m | \u001b[0m 0.7842  \u001b[0m | \u001b[0m 8.039   \u001b[0m | \u001b[0m 115.7   \u001b[0m |\n",
            "| \u001b[0m 4       \u001b[0m | \u001b[0m-1.65    \u001b[0m | \u001b[0m 0.8981  \u001b[0m | \u001b[0m 0.7786  \u001b[0m | \u001b[0m 9.71    \u001b[0m | \u001b[0m 106.6   \u001b[0m |\n",
            "| \u001b[95m 5       \u001b[0m | \u001b[95m-1.215   \u001b[0m | \u001b[95m 0.9487  \u001b[0m | \u001b[95m 0.1893  \u001b[0m | \u001b[95m 3.908   \u001b[0m | \u001b[95m 101.3   \u001b[0m |\n",
            "| \u001b[95m 6       \u001b[0m | \u001b[95m-1.125   \u001b[0m | \u001b[95m 0.06803 \u001b[0m | \u001b[95m 0.1387  \u001b[0m | \u001b[95m 5.522   \u001b[0m | \u001b[95m 103.2   \u001b[0m |\n",
            "| \u001b[0m 7       \u001b[0m | \u001b[0m-1.396   \u001b[0m | \u001b[0m 0.4239  \u001b[0m | \u001b[0m 0.4647  \u001b[0m | \u001b[0m 8.302   \u001b[0m | \u001b[0m 109.7   \u001b[0m |\n",
            "| \u001b[0m 8       \u001b[0m | \u001b[0m-1.369   \u001b[0m | \u001b[0m 0.734   \u001b[0m | \u001b[0m 0.5389  \u001b[0m | \u001b[0m 9.316   \u001b[0m | \u001b[0m 101.1   \u001b[0m |\n",
            "| \u001b[0m 9       \u001b[0m | \u001b[0m-4.889   \u001b[0m | \u001b[0m 0.0     \u001b[0m | \u001b[0m 0.0     \u001b[0m | \u001b[0m 3.0     \u001b[0m | \u001b[0m 105.7   \u001b[0m |\n",
            "| \u001b[0m 10      \u001b[0m | \u001b[0m-1.183   \u001b[0m | \u001b[0m 0.4218  \u001b[0m | \u001b[0m 0.2228  \u001b[0m | \u001b[0m 5.924   \u001b[0m | \u001b[0m 101.9   \u001b[0m |\n",
            "| \u001b[0m 11      \u001b[0m | \u001b[0m-1.158   \u001b[0m | \u001b[0m 0.0     \u001b[0m | \u001b[0m 0.1135  \u001b[0m | \u001b[0m 7.287   \u001b[0m | \u001b[0m 103.3   \u001b[0m |\n",
            "| \u001b[0m 12      \u001b[0m | \u001b[0m-1.836   \u001b[0m | \u001b[0m 1.0     \u001b[0m | \u001b[0m 1.0     \u001b[0m | \u001b[0m 6.406   \u001b[0m | \u001b[0m 103.1   \u001b[0m |\n",
            "| \u001b[0m 13      \u001b[0m | \u001b[0m-4.889   \u001b[0m | \u001b[0m 0.0     \u001b[0m | \u001b[0m 0.0     \u001b[0m | \u001b[0m 4.732   \u001b[0m | \u001b[0m 100.0   \u001b[0m |\n",
            "=========================================================================\n"
          ],
          "name": "stdout"
        }
      ]
    },
    {
      "cell_type": "code",
      "metadata": {
        "id": "027ncW9i7yxQ",
        "outputId": "9b1a3baa-aca8-4bcb-aca0-d9a4aa6e3c22",
        "colab": {
          "base_uri": "https://localhost:8080/"
        }
      },
      "source": [
        "params = xgb_bo.max['params']\n",
        "params['max_depth']= int(params['max_depth'])\n",
        "params['n_estimators']= int(params['n_estimators'])\n",
        "\n",
        "print(params)"
      ],
      "execution_count": 25,
      "outputs": [
        {
          "output_type": "stream",
          "text": [
            "{'gamma': 0.06802551138810298, 'learning_rate': 0.13865270671264407, 'max_depth': 5, 'n_estimators': 103}\n"
          ],
          "name": "stdout"
        }
      ]
    },
    {
      "cell_type": "code",
      "metadata": {
        "id": "lKgD3wHc78_k"
      },
      "source": [
        "from xgboost import XGBClassifier\n",
        "\n",
        "classifier_xgbho = xgb.XGBClassifier(**params)\n",
        "classifier_xgbho = classifier_xgbho.fit(X_train, y_train)\n",
        "predicted_xgbho = classifier_xgbho.predict(X_test)"
      ],
      "execution_count": 26,
      "outputs": []
    },
    {
      "cell_type": "code",
      "metadata": {
        "id": "WoVt7hle8lbD",
        "outputId": "ccfaed0a-0783-4e0a-a30a-dc533e6145d2",
        "colab": {
          "base_uri": "https://localhost:8080/",
          "height": 918
        }
      },
      "source": [
        "print(\"Classification report for classifier %s:\\n%s\\n\"\n",
        "      % (classifier_xgbho, metrics.classification_report(y_test, predicted_xgbho)))\n",
        "disp = metrics.plot_confusion_matrix(classifier_xgbho, X_test, y_test)\n",
        "disp.figure_.suptitle(\"Confusion Matrix\")\n",
        "print(\"Confusion matrix:\\n%s\" % disp.confusion_matrix)"
      ],
      "execution_count": 27,
      "outputs": [
        {
          "output_type": "stream",
          "text": [
            "Classification report for classifier XGBClassifier(base_score=0.5, booster='gbtree', colsample_bylevel=1,\n",
            "              colsample_bynode=1, colsample_bytree=1, gamma=0.06802551138810298,\n",
            "              learning_rate=0.13865270671264407, max_delta_step=0, max_depth=5,\n",
            "              min_child_weight=1, missing=None, n_estimators=103, n_jobs=1,\n",
            "              nthread=None, objective='multi:softprob', random_state=0,\n",
            "              reg_alpha=0, reg_lambda=1, scale_pos_weight=1, seed=None,\n",
            "              silent=None, subsample=1, verbosity=1):\n",
            "              precision    recall  f1-score   support\n",
            "\n",
            "           0       0.93      0.99      0.96        88\n",
            "           1       0.85      0.82      0.84        91\n",
            "           2       0.94      0.90      0.92        86\n",
            "           3       0.90      0.81      0.86        91\n",
            "           4       0.98      0.86      0.91        92\n",
            "           5       0.85      0.91      0.88        91\n",
            "           6       0.93      0.90      0.92        91\n",
            "           7       0.93      0.92      0.93        89\n",
            "           8       0.85      0.84      0.85        88\n",
            "           9       0.77      0.92      0.84        92\n",
            "\n",
            "    accuracy                           0.89       899\n",
            "   macro avg       0.89      0.89      0.89       899\n",
            "weighted avg       0.89      0.89      0.89       899\n",
            "\n",
            "\n",
            "Confusion matrix:\n",
            "[[87  0  0  0  0  0  0  0  1  0]\n",
            " [ 0 75  0  3  1  0  0  1  1 10]\n",
            " [ 2  0 77  4  0  0  0  0  0  3]\n",
            " [ 0  4  0 74  0  3  0  3  7  0]\n",
            " [ 3  0  0  0 79  0  5  1  0  4]\n",
            " [ 0  1  0  0  0 83  1  0  0  6]\n",
            " [ 0  3  5  0  0  0 82  0  1  0]\n",
            " [ 0  0  0  0  1  5  0 82  1  0]\n",
            " [ 0  5  0  1  0  4  0  1 74  3]\n",
            " [ 2  0  0  0  0  3  0  0  2 85]]\n"
          ],
          "name": "stdout"
        },
        {
          "output_type": "display_data",
          "data": {
            "image/png": "[encoded data removed]",
            "text/plain": [
              "<Figure size 432x288 with 2 Axes>"
            ]
          },
          "metadata": {
            "tags": [],
            "needs_background": "light"
          }
        }
      ]
    }
  ]
}